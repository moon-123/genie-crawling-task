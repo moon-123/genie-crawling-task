{
  "nbformat": 4,
  "nbformat_minor": 0,
  "metadata": {
    "colab": {
      "provenance": [],
      "authorship_tag": "ABX9TyP29Lwvz63rgpkh6sgwUytZ",
      "include_colab_link": true
    },
    "kernelspec": {
      "name": "python3",
      "display_name": "Python 3"
    },
    "language_info": {
      "name": "python"
    }
  },
  "cells": [
    {
      "cell_type": "markdown",
      "metadata": {
        "id": "view-in-github",
        "colab_type": "text"
      },
      "source": [
        "<a href=\"https://colab.research.google.com/github/moon-123/genieCrawlingTask/blob/main/%ED%81%AC%EB%A1%A4%EB%A7%81_%EA%B3%BC%EC%A0%9C.ipynb\" target=\"_parent\"><img src=\"https://colab.research.google.com/assets/colab-badge.svg\" alt=\"Open In Colab\"/></a>"
      ]
    },
    {
      "cell_type": "code",
      "execution_count": 8,
      "metadata": {
        "id": "H7YQe0UvaxdY"
      },
      "outputs": [],
      "source": [
        "import requests # 가져와\n",
        "from bs4 import BeautifulSoup # 분해해서 입맛에 맞게 끄집어내\n",
        "import pandas as pd\n"
      ]
    },
    {
      "cell_type": "code",
      "source": [
        "# 헤더 Mozilla/5.0 (Macintosh; Intel Mac OS X 10_15_7) AppleWebKit/537.36 (KHTML, like Gecko) Chrome/118.0.0.0 Safari/537.36\n",
        "header = {'User-Agent':'Mozilla/5.0 (Macintosh; Intel Mac OS X 10_15_7)'}\n",
        "\n",
        "\n",
        "def genie(page):\n",
        "    site = f'https://www.genie.co.kr/chart/top200?pg={page}'\n",
        "    request = requests.get(site, headers=header)\n",
        "    soup = BeautifulSoup(request.text)\n",
        "    tbody = soup.find('tbody')\n",
        "    tr_lists = tbody.findAll('tr', {'class':'list'})\n",
        "\n",
        "    li = []\n",
        "    for tr_list in tr_lists:\n",
        "        td_info = tr_list.find('td', {'class':'info'})\n",
        "        titles = td_info.find('a', {'class':'title'}).text.replace('19금', '').strip()\n",
        "        artists = td_info.find('a', {'class':'artist'}).text.strip()\n",
        "        li.append([titles, artists])\n",
        "\n",
        "\n",
        "    return li\n",
        "\n",
        "    # titles = info.findAll('a', {'class':'title'})\n",
        "    # artists = info.findAll('a', {'class':'artist'})\n",
        "    # print(titles)\n",
        "    # for key, idx in titles:\n",
        "    #     dic = {key:artists[idx]}\n",
        "\n",
        "    # return titles"
      ],
      "metadata": {
        "id": "qrPldSORbQi9"
      },
      "execution_count": 53,
      "outputs": []
    },
    {
      "cell_type": "code",
      "source": [
        "li = []\n",
        "for i in range(1, 5):\n",
        "    li += genie(i)\n",
        "df = pd.DataFrame(li, index=range(1, len(li) + 1), columns=[\"title\", \"artist\"])\n",
        "df.to_excel('genie_top200.xlsx')\n"
      ],
      "metadata": {
        "id": "-L3jJcx5lEGL"
      },
      "execution_count": 54,
      "outputs": []
    },
    {
      "cell_type": "code",
      "source": [],
      "metadata": {
        "id": "Vx2dURQQcJsj"
      },
      "execution_count": 49,
      "outputs": []
    }
  ]
}